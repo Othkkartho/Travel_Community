{
 "cells": [
  {
   "cell_type": "code",
   "execution_count": 2,
   "id": "faccb81b",
   "metadata": {
    "scrolled": false
   },
   "outputs": [
    {
     "name": "stdout",
     "output_type": "stream",
     "text": [
      "      구분  순위 여행지 명  용도 국내/외 여행       지역  모바일    pc  트래픽 수        일자\n",
      "0  56442   1  부산여행  여행    국내여행    부산광역시  550  1286   1836  20231108\n",
      "1  56443   2  경주여행  여행    국내여행     경상북도  392   990   1382  20231108\n",
      "2  56444   3  제주여행  여행    국내여행  제주특별자치도  283   881   1164  20231108\n",
      "3  56445   4  여수여행  여행    국내여행     전라남도  232   903   1135  20231108\n",
      "4  56446   5  전주여행  여행    국내여행     전라북도  231   625    856  20231108\n"
     ]
    }
   ],
   "source": [
    "import pandas as pd\n",
    "\n",
    "# csv 파일 불러오기\n",
    "df = pd.read_csv('top10_20231108.csv')\n",
    "\n",
    "# 컬럼명 변경\n",
    "df.columns = ['구분', '순위', '여행지 명','용도','국내/외 여행', '지역', '모바일', 'pc', '트래픽 수', '일자']\n",
    "\n",
    "# 변경된 데이터프레임 확인\n",
    "print(df.head())\n"
   ]
  },
  {
   "cell_type": "code",
   "execution_count": 3,
   "id": "e9e8fcc3",
   "metadata": {
    "scrolled": false
   },
   "outputs": [
    {
     "name": "stdout",
     "output_type": "stream",
     "text": [
      "   순위       지역  트래픽 수        일자\n",
      "0   1    부산광역시   1836  20231108\n",
      "1   2     경상북도   1382  20231108\n",
      "2   3  제주특별자치도   1164  20231108\n",
      "3   4     전라남도   1135  20231108\n",
      "4   5     전라북도    856  20231108\n"
     ]
    }
   ],
   "source": [
    "# '순위' 컬럼을 기준으로 오름차순 정렬\n",
    "df_sorted = df.sort_values(by='순위')\n",
    "\n",
    "# 원하는 컬럼만 출력\n",
    "df_final = df_sorted[['순위', '지역', '트래픽 수', '일자']]\n",
    "\n",
    "# 최종 데이터프레임 확인\n",
    "print(df_final.head())\n"
   ]
  },
  {
   "cell_type": "code",
   "execution_count": 5,
   "id": "13fa1ca4",
   "metadata": {},
   "outputs": [
    {
     "name": "stdout",
     "output_type": "stream",
     "text": [
      "   순위       지역  트래픽 수        일자\n",
      "0   1    부산광역시   1836  20231108\n",
      "1   2     경상북도   1382  20231108\n",
      "2   3  제주특별자치도   1164  20231108\n",
      "3   4     전라남도   1135  20231108\n",
      "4   5     전라북도    856  20231108\n",
      "5   6     전라북도    845  20231108\n",
      "6   7      강원도    824  20231108\n",
      "7   8      강원도    627  20231108\n",
      "8   9    대구광역시    589  20231108\n",
      "9  10     전라남도    524  20231108\n"
     ]
    }
   ],
   "source": [
    "import pandas as pd\n",
    "\n",
    "# csv 파일 불러오기\n",
    "df = pd.read_csv('top10_20231108.csv')\n",
    "\n",
    "# 컬럼명 변경\n",
    "df.columns = ['구분', '순위', '여행지 명','용도','국내/외 여행', '지역', '모바일', 'pc', '트래픽 수', '일자']\n",
    "\n",
    "# '순위' 컬럼을 기준으로 오름차순 정렬\n",
    "df_sorted = df.sort_values(by='순위')\n",
    "\n",
    "# 원하는 컬럼만 출력\n",
    "df_final = df_sorted[['순위', '지역', '트래픽 수', '일자']]\n",
    "\n",
    "# 최종 데이터프레임 출력\n",
    "print(df_final)\n"
   ]
  },
  {
   "cell_type": "code",
   "execution_count": 6,
   "id": "a31bf0b1",
   "metadata": {},
   "outputs": [],
   "source": [
    "# csv 파일로 저장\n",
    "df_final.to_csv('topData_20231108.csv', index=False, encoding='utf-8-sig')\n",
    "\n",
    "# xlsx 파일로 저장\n",
    "df_final.to_excel('topData_20231108.xlsx', index=False)\n"
   ]
  },
  {
   "cell_type": "code",
   "execution_count": null,
   "id": "85e011ed",
   "metadata": {},
   "outputs": [],
   "source": []
  }
 ],
 "metadata": {
  "kernelspec": {
   "display_name": "Python 3 (ipykernel)",
   "language": "python",
   "name": "python3"
  },
  "language_info": {
   "codemirror_mode": {
    "name": "ipython",
    "version": 3
   },
   "file_extension": ".py",
   "mimetype": "text/x-python",
   "name": "python",
   "nbconvert_exporter": "python",
   "pygments_lexer": "ipython3",
   "version": "3.9.13"
  }
 },
 "nbformat": 4,
 "nbformat_minor": 5
}
